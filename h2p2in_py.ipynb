{
  "nbformat": 4,
  "nbformat_minor": 0,
  "metadata": {
    "accelerator": "GPU",
    "colab": {
      "name": "h2p2in_py.ipynb",
      "provenance": [],
      "collapsed_sections": [],
      "toc_visible": true
    },
    "kernelspec": {
      "display_name": "Python 3",
      "name": "python3"
    }
  },
  "cells": [
    {
      "cell_type": "code",
      "metadata": {
        "colab": {
          "base_uri": "https://localhost:8080/"
        },
        "id": "aZvxh4NSppn4",
        "outputId": "33095a72-b182-478d-bdb6-c72819a1aa59"
      },
      "source": [
        "from google.colab import drive\n",
        "drive.mount('/content/gdrive')\n"
      ],
      "execution_count": null,
      "outputs": [
        {
          "output_type": "stream",
          "text": [
            "Mounted at /content/gdrive\n"
          ],
          "name": "stdout"
        }
      ]
    },
    {
      "cell_type": "code",
      "metadata": {
        "id": "e6A2V7QaJUTl"
      },
      "source": [
        "!unzip gdrive/My\\ Drive/Cmu/h2p2/data/11-785-fall-20-homework-2-part-2.zip > /dev/null"
      ],
      "execution_count": null,
      "outputs": []
    },
    {
      "cell_type": "code",
      "metadata": {
        "id": "X1Sbqcagth57",
        "colab": {
          "base_uri": "https://localhost:8080/"
        },
        "outputId": "a22549ec-fa68-4094-8857-1d1d689056a0"
      },
      "source": [
        "!nvidia-smi\n"
      ],
      "execution_count": null,
      "outputs": [
        {
          "output_type": "stream",
          "text": [
            "Tue Mar  2 13:20:09 2021       \n",
            "+-----------------------------------------------------------------------------+\n",
            "| NVIDIA-SMI 460.39       Driver Version: 460.32.03    CUDA Version: 11.2     |\n",
            "|-------------------------------+----------------------+----------------------+\n",
            "| GPU  Name        Persistence-M| Bus-Id        Disp.A | Volatile Uncorr. ECC |\n",
            "| Fan  Temp  Perf  Pwr:Usage/Cap|         Memory-Usage | GPU-Util  Compute M. |\n",
            "|                               |                      |               MIG M. |\n",
            "|===============================+======================+======================|\n",
            "|   0  Tesla T4            Off  | 00000000:00:04.0 Off |                    0 |\n",
            "| N/A   42C    P8     9W /  70W |      0MiB / 15109MiB |      0%      Default |\n",
            "|                               |                      |                  N/A |\n",
            "+-------------------------------+----------------------+----------------------+\n",
            "                                                                               \n",
            "+-----------------------------------------------------------------------------+\n",
            "| Processes:                                                                  |\n",
            "|  GPU   GI   CI        PID   Type   Process name                  GPU Memory |\n",
            "|        ID   ID                                                   Usage      |\n",
            "|=============================================================================|\n",
            "|  No running processes found                                                 |\n",
            "+-----------------------------------------------------------------------------+\n"
          ],
          "name": "stdout"
        }
      ]
    },
    {
      "cell_type": "markdown",
      "metadata": {
        "id": "ZevqZ8scyGsG"
      },
      "source": [
        "Test with block.expansion = 1 and 4\n",
        "With and without relu for last verf layer\n",
        "biase = false and true"
      ]
    },
    {
      "cell_type": "code",
      "metadata": {
        "id": "Len2GkTfpejd"
      },
      "source": [
        "import os\n",
        "import numpy as np\n",
        "from PIL import Image\n",
        "import time\n",
        "\n",
        "import torch\n",
        "import torchvision   \n",
        "import torch.nn as nn\n",
        "import torch.nn.functional as F\n",
        "import torch.tensor as Tensor\n",
        "import matplotlib.pyplot as plt\n",
        "from tqdm import tqdm\n",
        "from sklearn.metrics import roc_auc_score\n",
        "\n",
        "from sklearn.metrics import roc_curve\n",
        "from torchvision import transforms\n",
        "from torch.utils.data import Dataset, DataLoader\n",
        "device = torch.device(\"cuda\" if torch.cuda.is_available() else \"cpu\")\n",
        "cuda = torch.cuda.is_available()"
      ],
      "execution_count": null,
      "outputs": []
    },
    {
      "cell_type": "code",
      "metadata": {
        "id": "zWek0FsPp0sT"
      },
      "source": [
        "def conv3x3(in_channels, out_channels, stride = 1,padding = 1):\n",
        "    \"\"\"3x3 convolution with Padding\"\"\"\n",
        "    return nn.Conv2d(in_channels, out_channels, kernel_size=3, stride=stride,bias=False,padding = padding)\n",
        "\n",
        "\n",
        "def conv1x1(in_channels, out_channels, stride = 1):\n",
        "    \"\"\"1x1 convolution\"\"\"\n",
        "    return nn.Conv2d(in_channels, out_channels, kernel_size=1, stride=stride, bias=False)"
      ],
      "execution_count": null,
      "outputs": []
    },
    {
      "cell_type": "code",
      "metadata": {
        "id": "k5b85Vk5p6HL"
      },
      "source": [
        "#For Resnet 50( Imaprove on Performance BottleNeck Instead of Basic Residual)\n",
        "class Bottleneck(nn.Module):\n",
        "    expansion = 4#change to 4 later\n",
        "    def __init__(self,inplanes,planes,norm_layer = None,stride = 1,downsample = None):\n",
        "        super(Bottleneck, self).__init__()\n",
        "        if norm_layer is None:\n",
        "            norm_layer = nn.BatchNorm2d\n",
        "        # Both self.conv2 and self.downsample layers downsample the input when stride != 1\n",
        "        self.conv1 = conv1x1(inplanes, planes)\n",
        "        self.bn1 = norm_layer(planes)\n",
        "        self.conv2 = conv3x3(planes, planes, stride)\n",
        "        self.bn2 = norm_layer(planes)\n",
        "        self.conv3 = conv1x1(planes, planes * self.expansion)\n",
        "        self.bn3 = norm_layer(planes * self.expansion)\n",
        "        self.relu = nn.ReLU(inplace=True)\n",
        "        self.downsample = downsample\n",
        "        self.stride = stride\n",
        "\n",
        "    def forward(self, x):\n",
        "        identity = x\n",
        "\n",
        "        out = self.conv1(x)\n",
        "        out = self.bn1(out)\n",
        "        out = self.relu(out)\n",
        "\n",
        "        out = self.conv2(out)\n",
        "        out = self.bn2(out)\n",
        "        out = self.relu(out)\n",
        "\n",
        "        out = self.conv3(out)\n",
        "        out = self.bn3(out)\n",
        "\n",
        "        if self.downsample is not None:\n",
        "            identity = self.downsample(x)\n",
        "\n",
        "        out += identity\n",
        "        out = self.relu(out)\n",
        "\n",
        "        return out"
      ],
      "execution_count": null,
      "outputs": []
    },
    {
      "cell_type": "code",
      "metadata": {
        "id": "3fgWuvZTp6gL"
      },
      "source": [
        "class BasicBlock(nn.Module):\n",
        "    def __init__(self,in_channels, out_channels, norm_layer,stride = 1,downsample = None):\n",
        "        super(BasicBlock,self).__init__()\n",
        "        self.conv1 = conv3x3(in_channels,out_channels,stride)\n",
        "        self.bn1 = norm_layer(out_channels)\n",
        "        self.relu = nn.ReLU(inplace=True) # A small amout of memory compare to inplace = False(default)\n",
        "                                          # Only if there is no Error\n",
        "        self.conv2 = conv3x3(out_channels, out_channels)\n",
        "        self.bn2 = norm_layer(out_channels)\n",
        "        self.downsample = downsample\n",
        "        self.stride = stride\n",
        "    \n",
        "    def forward(self,x):\n",
        "        identity = x # For shortcut\n",
        "\n",
        "        out = self.conv1(x)\n",
        "        out = self.bn1(out)\n",
        "        out = self.relu(out)\n",
        "        \n",
        "        out = self.conv2(out)\n",
        "        out = self.bn2(out)\n",
        "\n",
        "        if self.downsample is not None:\n",
        "          identity = self.downsample(x)\n",
        "        \n",
        "        out += identity\n",
        "        out = self.relu(out)\n",
        "        \n",
        "        return out"
      ],
      "execution_count": null,
      "outputs": []
    },
    {
      "cell_type": "code",
      "metadata": {
        "id": "f4iN4NsNp8ek"
      },
      "source": [
        "class ResNet(nn.Module):\n",
        "  def __init__(self,block,layers,num_classes = 1000, zero_init_residual = False,feat_dim=100):\n",
        "    super(ResNet, self).__init__()\n",
        "    self._norm_layer = nn.BatchNorm2d\n",
        "    self.inplanes = 64\n",
        "    \n",
        "    #From RGB(3_channels -> 64 Channels) Resnet Paper Arch\n",
        "    #7x7 Conv, 64,/2\n",
        "    self.conv1 = nn.Conv2d(3,self.inplanes,kernel_size=7,stride=2,padding=3\n",
        "                           ,bias=False)# Bias False as Already in Batch\n",
        "    self.bn1 = nn.BatchNorm2d(self.inplanes)\n",
        "    self.relu = nn.ReLU(inplace=True)\n",
        "    \n",
        "    #pool, /2\n",
        "    self.maxpool = nn.MaxPool2d(kernel_size=3,stride=2,padding=1)\n",
        "\n",
        "    #Group of Residual Blocks\n",
        "    self.layer1 = self._make_layer(block, 64, layers[0])\n",
        "    self.layer2 = self._make_layer(block, 128, layers[1], stride=2)\n",
        "    self.layer3 = self._make_layer(block, 256, layers[2], stride=2)\n",
        "    self.layer4 = self._make_layer(block, 512, layers[3], stride=2)\n",
        "\n",
        "    #layer Befor fully connected(max pool)\n",
        "    self.avgpool = nn.AdaptiveAvgPool2d((1, 1))\n",
        "\n",
        "    ##original \n",
        "    #self.fc = nn.Linear(512, num_classes)\n",
        "    #self.linear_label = nn.Linear(512 * block.expansion, num_classes, bias=False)\n",
        "    self.linear_label = nn.Linear(512 * block.expansion, num_classes)\n",
        "    #For our problem \n",
        "    # For creating the embedding to be passed into the Center Loss criterion\n",
        "    #self.linear_closs = nn.Linear(512, feat_dim, bias=False)\n",
        "    self.linear_closs = nn.Linear(512*block.expansion, feat_dim)\n",
        "    #self.relu_closs = nn.ReLU(inplace=True)  # Test with  relu and without\n",
        "    #self.relu_closs = nn.LeakyReLU(inplace=True)  #Maybe only for classification use relu\n",
        "\n",
        "    #Initialization\n",
        "    for m in self.modules():\n",
        "      if isinstance(m, nn.Conv2d):\n",
        "        nn.init.kaiming_normal_(m.weight, mode='fan_out', nonlinearity='relu')\n",
        "      elif isinstance(m, nn.BatchNorm2d):\n",
        "        nn.init.constant_(m.weight, 1)\n",
        "        nn.init.constant_(m.bias, 0)\n",
        "    \n",
        "    # Zero-initialize the last BN in each residual branch,\n",
        "    # so that the residual branch starts with zeros, and each residual block behaves like an identity.\n",
        "    # This improves the model by 0.2~0.3% according to https://arxiv.org/abs/1706.02677\n",
        "    if zero_init_residual:\n",
        "      for m in self.modules():\n",
        "        if isinstance(m, BasicBlock):\n",
        "          nn.init.constant_(m.bn2.weight, 0)  # type: ignore[arg-type]\n",
        "    \n",
        "  def _make_layer(self, block, planes, blocks,stride=1):\n",
        "    norm_layer = self._norm_layer\n",
        "    downsample = None\n",
        "    if stride != 1 or self.inplanes != planes * block.expansion:\n",
        "            downsample = nn.Sequential(\n",
        "                conv1x1(self.inplanes, planes*block.expansion, stride),\n",
        "                norm_layer(planes*block.expansion),\n",
        "            )\n",
        "    layers = []\n",
        "    layers.append(block(self.inplanes, planes, norm_layer,stride,downsample))\n",
        "    self.inplanes = planes * block.expansion\n",
        "    for _ in range(1, blocks):\n",
        "      layers.append(block(self.inplanes, planes,norm_layer=norm_layer))\n",
        "    return nn.Sequential(*layers)\n",
        "\n",
        "  def _forward_impl(self, x):\n",
        "        x = self.conv1(x)\n",
        "        x = self.bn1(x)\n",
        "        x = self.relu(x)\n",
        "        x = self.maxpool(x)\n",
        "\n",
        "        x = self.layer1(x)\n",
        "        x = self.layer2(x)\n",
        "        x = self.layer3(x)\n",
        "        x = self.layer4(x)\n",
        "\n",
        "        x = self.avgpool(x)\n",
        "        x = torch.flatten(x, 1)\n",
        "        #output = x.detach().clone()\n",
        "        label_output = self.linear_label(x)\n",
        "        #label_output = label_output/torch.norm(self.linear_label.weight, dim=1)\n",
        "\n",
        "        # Create the feature embedding for the Center Loss\n",
        "        class_output = self.linear_closs(x)\n",
        "        #class_output = self.relu_closs(class_output)\n",
        "\n",
        "        return class_output, label_output\n",
        "\n",
        "  def forward(self, x):\n",
        "        return self._forward_impl(x)\n",
        "  "
      ],
      "execution_count": null,
      "outputs": []
    },
    {
      "cell_type": "code",
      "metadata": {
        "id": "wPYmpzs4p-Pt"
      },
      "source": [
        "def _resnet(block,layers,**kwargs):\n",
        "    model = ResNet(block, layers,**kwargs)\n",
        "    return model\n",
        "\n",
        "def resnet18(**kwargs):\n",
        "  return _resnet(BasicBlock,[2,2,2,2],**kwargs)\n",
        "\n",
        "def resnet50(**kwargs):\n",
        "    return _resnet(Bottleneck, [3, 4, 6, 3],**kwargs)"
      ],
      "execution_count": null,
      "outputs": []
    },
    {
      "cell_type": "code",
      "metadata": {
        "id": "TbzK_2PQp_1k"
      },
      "source": [
        "class CenterLoss(nn.Module):\n",
        "    \"\"\"\n",
        "    Args:\n",
        "        num_classes (int): number of classes.\n",
        "        feat_dim (int): feature dimension.\n",
        "    \"\"\"\n",
        "    def __init__(self, num_classes, feat_dim, device=torch.device('cpu')):\n",
        "        super(CenterLoss, self).__init__()\n",
        "        self.num_classes = num_classes\n",
        "        self.feat_dim = feat_dim\n",
        "        self.device = device\n",
        "        \n",
        "        self.centers = nn.Parameter(torch.randn(self.num_classes, self.feat_dim).to(self.device))\n",
        "\n",
        "    def forward(self, x, labels):\n",
        "        \"\"\"\n",
        "        Args:\n",
        "            x: feature matrix with shape (batch_size, feat_dim).\n",
        "            labels: ground truth labels with shape (batch_size).\n",
        "        \"\"\"\n",
        "        batch_size = x.size(0)\n",
        "        distmat = torch.pow(x, 2).sum(dim=1, keepdim=True).expand(batch_size, self.num_classes) + \\\n",
        "                  torch.pow(self.centers, 2).sum(dim=1, keepdim=True).expand(self.num_classes, batch_size).t()\n",
        "        distmat.addmm_(1, -2, x, self.centers.t())\n",
        "\n",
        "        classes = torch.arange(self.num_classes).long().to(self.device)\n",
        "        labels = labels.unsqueeze(1).expand(batch_size, self.num_classes)\n",
        "        mask = labels.eq(classes.expand(batch_size, self.num_classes))\n",
        "\n",
        "        dist = []\n",
        "        for i in range(batch_size):\n",
        "            value = distmat[i][mask[i]]\n",
        "            value = value.clamp(min=1e-12, max=1e+12) # for numerical stability\n",
        "            dist.append(value)\n",
        "        dist = torch.cat(dist)\n",
        "        loss = dist.mean()\n",
        "\n",
        "        return loss"
      ],
      "execution_count": null,
      "outputs": []
    },
    {
      "cell_type": "code",
      "metadata": {
        "id": "_J0eHs_xKh8Z"
      },
      "source": [
        "class RunningAverage():\n",
        "    \"\"\"A simple class that maintains the running average of a quantity\n",
        "    \n",
        "    Example:\n",
        "    ```\n",
        "    loss_avg = RunningAverage()\n",
        "    loss_avg.update(2)\n",
        "    loss_avg.update(4)\n",
        "    loss_avg() = 3\n",
        "    ```\n",
        "    \"\"\"\n",
        "    def __init__(self):\n",
        "        self.steps = 0\n",
        "        self.total = 0\n",
        "    \n",
        "    def update(self, val):\n",
        "        self.total += val\n",
        "        self.steps += 1\n",
        "    \n",
        "    def __call__(self):\n",
        "        return self.total/float(self.steps)"
      ],
      "execution_count": null,
      "outputs": []
    },
    {
      "cell_type": "code",
      "metadata": {
        "id": "IxPBM1AiqBeS"
      },
      "source": [
        "def one_epoch(epoch,net,loader,optimizer_label,optimizer_center,criterion_closs):\n",
        "  net.train()\n",
        "  running_loss = 0.0\n",
        "  n = 0\n",
        "  correct = 0\n",
        "  total = 0\n",
        "  loss_avg = RunningAverage()\n",
        "  with tqdm(total=len(loader)) as t:\n",
        "    for i,(inputs,labels) in enumerate(loader):\n",
        "      inputs = inputs.to(device)\n",
        "      labels = labels.to(device)\n",
        "      #optimizer.zero_grad()\n",
        "      optimizer_label.zero_grad()\n",
        "      optimizer_center.zero_grad()\n",
        "\n",
        "      \n",
        "      feature_vec,outputs = net(inputs)\n",
        "\n",
        "  \n",
        "      label_loss = F.cross_entropy(outputs,labels)\n",
        "      center_loss = criterion_closs(feature_vec,labels)\n",
        "      loss = label_loss + hyper_param[\"closs_weight\"] * center_loss\n",
        "\n",
        "\n",
        "      running_loss += loss.item()\n",
        "      loss.backward()\n",
        "      optimizer_label.step()\n",
        "\n",
        "      for param in criterion_closs.parameters():\n",
        "        param.grad.data *= (1. / hyper_param[\"closs_weight\"])\n",
        "      optimizer_center.step()\n",
        "\n",
        "\n",
        "      _, predicted = torch.max(outputs.data, 1)\n",
        "      total += labels.size(0)\n",
        "      correct += (predicted == labels).sum().item()\n",
        "      torch.cuda.empty_cache()\n",
        "      start = time.time()\n",
        "      '''\n",
        "      if(i%100 == 99):\n",
        "        print(f\"**Done: Batch {i+1}\")\n",
        "        end = time.time()\n",
        "        print(f\"Time to do 100 batches :{end - start}\")\n",
        "      '''\n",
        "      loss_avg.update(loss.item())\n",
        "      del inputs\n",
        "      del labels\n",
        "      del loss\n",
        "      t.set_postfix(loss='{:05.3f}'.format(loss_avg()))\n",
        "      t.update()\n",
        "\n",
        "  avg_loss = running_loss / total\n",
        "  acc = correct / total *100\n",
        "  return avg_loss,acc"
      ],
      "execution_count": null,
      "outputs": []
    },
    {
      "cell_type": "code",
      "metadata": {
        "id": "5Z7EdrPcq3Zy"
      },
      "source": [
        "def infer_classfication(net, loader,criterion_closs):\n",
        "    net.eval()\n",
        "    running_loss = 0.0\n",
        "    n = 0\n",
        "    correct = 0\n",
        "    total = 0\n",
        "    with torch.no_grad():\n",
        "        for i, (inputs,labels) in enumerate(loader):\n",
        "            inputs = inputs.to(device)\n",
        "            labels = labels.to(device)\n",
        "            # zero the parameter gradients\n",
        "            # forward + backward + optimize\n",
        "            feature_vec,outputs = net(inputs)\n",
        "            #loss = F.cross_entropy(outputs, labels)\n",
        "            label_loss = F.cross_entropy(outputs,labels)\n",
        "            center_loss = criterion_closs(feature_vec,labels)\n",
        "            loss = label_loss + hyper_param[\"closs_weight\"] * center_loss\n",
        "\n",
        "            running_loss += loss.item()\n",
        "            _, predicted = torch.max(outputs.data, 1)\n",
        "            total += labels.size(0)\n",
        "            correct += (predicted == labels).sum().item()\n",
        "            del inputs\n",
        "            del labels\n",
        "\n",
        "    acc = correct / total * 100\n",
        "    avg_loss = running_loss / total\n",
        "    return avg_loss, acc"
      ],
      "execution_count": null,
      "outputs": []
    },
    {
      "cell_type": "code",
      "metadata": {
        "id": "aC_7GzTyLfzZ"
      },
      "source": [
        "def save_checkpoint(state, is_best, checkpoint):\n",
        "    \"\"\"Saves model and training parameters at checkpoint + 'last.pth.tar'. If is_best==True, also saves\n",
        "    checkpoint + 'best.pth.tar'\n",
        "    Args:\n",
        "        state: (dict) contains model's state_dict, may contain other keys such as epoch, optimizer state_dict\n",
        "        is_best: (bool) True if it is the best model seen till now\n",
        "        checkpoint: (string) folder where parameters are to be saved\n",
        "    \"\"\"\n",
        "    filepath = os.path.join(checkpoint, 'last.pth.tar')\n",
        "    if not os.path.exists(checkpoint):\n",
        "        print(\"Checkpoint Directory does not exist! Making directory {}\".format(checkpoint))\n",
        "        os.mkdir(checkpoint)\n",
        "    else:\n",
        "        print(\"Checkpoint Directory exists! \")\n",
        "    torch.save(state, filepath)\n",
        "    if is_best:\n",
        "        shutil.copyfile(filepath, os.path.join(checkpoint, 'best.pth.tar'))\n",
        "\n",
        "\n",
        "def load_checkpoint(checkpoint, model, optimizer1=None,optimizer2 = None,scheduler=None):\n",
        "    \"\"\"Loads model parameters (state_dict) from file_path. If optimizer is provided, loads state_dict of\n",
        "    optimizer assuming it is present in checkpoint.\n",
        "    Args:\n",
        "        checkpoint: (string) filename which needs to be loaded\n",
        "        model: (torch.nn.Module) model for which the parameters are loaded\n",
        "        optimizer: (torch.optim) optional: resume optimizer from checkpoint\n",
        "    \"\"\"\n",
        "    if not os.path.exists(checkpoint):\n",
        "        raise(\"File doesn't exist {}\".format(checkpoint))\n",
        "    #checkpoint = torch.load(checkpoint)\n",
        "    checkpoint = torch.load(checkpoint,map_location=device)\n",
        "    model.load_state_dict(checkpoint['model_state_dict'])\n",
        "\n",
        "    if optimizer1 and optimizer2:\n",
        "        optimizer1.load_state_dict(checkpoint['optimizer_Adam_state_dict'])\n",
        "        optimizer2.load_state_dict(checkpoint['optimizer_closs_state_dict'])\n",
        "    \n",
        "    if scheduler:\n",
        "      scheduler.load_state_dict(checkpoint[\"scheduler_save\"])\n",
        "\n",
        "    return checkpoint"
      ],
      "execution_count": null,
      "outputs": []
    },
    {
      "cell_type": "code",
      "metadata": {
        "id": "m5ToUzmcq8RM"
      },
      "source": [
        "def train_step(net,loader,dev_loader,verf_loader,optimizer1,optimizer2,scheduler,criterion_closs,epochs,task='Classification'):\n",
        "  net.train()\n",
        "  train_losses = []\n",
        "  valid_losses = []\n",
        "  valid_acc = []\n",
        "  auc_acc = []\n",
        "  for epoch in range(epochs):\n",
        "    for prarm_group in optimizer1.param_groups:\n",
        "\t        print(\"Current lr: \\t{}\".format(prarm_group[\"lr\"]))\n",
        "    avg_loss_t, acc_t = one_epoch(epoch, net, loader, optimizer1,optimizer2,criterion_closs)\n",
        "\n",
        "    print(f'\\n\\n*************\\n')\n",
        "    print('Epoch [%d], loss: %.8f, acc: %.4f' %\n",
        "                (epoch + 1, avg_loss_t, acc_t))\n",
        "    if task == 'Classification':\n",
        "      avg_loss_v, acc_v = infer_classfication(net, dev_loader,criterion_closs)\n",
        "      valid_losses.append(avg_loss_v)\n",
        "      valid_acc.append(acc_v)\n",
        "      print('[Classification valid] loss: %.8f, acc: %.4f\\n\\n' % (avg_loss_v, acc_v))\n",
        "    else:      \n",
        "      pass\n",
        "    #scheduler.step() # StepLR\n",
        "    scheduler.step(avg_loss_v) # ReduceonPlateau\n",
        "    train_losses.append(avg_loss_t)\n",
        "    \n",
        "    print('\\n','='*20)\n",
        "    print(\"*** Saving Checkpoint ***\\n\")\n",
        "    #path = \"{}Model_Epoch_{}_v1.txt\".format(hyper['weightDirName'], str(epoch))\n",
        "    save_checkpoint({'epoch': epoch + 1,\n",
        "                               'model_state_dict': net.state_dict(),\n",
        "                               'optimizer_Adam_state_dict': optimizer1.state_dict(),\n",
        "                               'optimizer_closs_state_dict': optimizer2.state_dict(),\n",
        "                              'scheduler_save' : scheduler.state_dict(),\n",
        "                               'train_loss': train_losses,\n",
        "                                'dev_loss':valid_losses,\n",
        "                                'dev_acc': valid_acc,},\n",
        "                              is_best=False,\n",
        "                              checkpoint=\"gdrive/MyDrive/Cmu/h2p2/Checkpoint\")\n",
        "    '''\n",
        "    path = \"gdrive/MyDrive/Cmu/data_resnt/\"+\"Model_\"+str(epoch) #colab\n",
        "    torch.save({\n",
        "            'epoch': epoch,\n",
        "            'model_state_dict': net.state_dict(),\n",
        "            'optimizer_Adam_state_dict': optimizer1.state_dict(),\n",
        "            'optimizer_closs_state_dict': optimizer2.state_dict(),\n",
        "            'train_loss': train_losses,\n",
        "            'dev_loss':valid_losses,\n",
        "            'dev_acc': valid_acc,\n",
        "            #'Auc_score' : auc_acc\n",
        "        }, path)\n",
        "    '''\n",
        "  return train_losses, valid_losses,valid_acc"
      ],
      "execution_count": null,
      "outputs": []
    },
    {
      "cell_type": "code",
      "metadata": {
        "id": "7pQL69MHsF88"
      },
      "source": [
        "def get_loader(train_dataset,dev_dataset,test_dataset,batch_size = 256):\n",
        "  num_workers = 8\n",
        "  train_dataloader = torch.utils.data.DataLoader(train_dataset, batch_size=batch_size, \n",
        "                                               shuffle=True, num_workers=num_workers,pin_memory=True)\n",
        "\n",
        "  \n",
        "  dev_dataloader = torch.utils.data.DataLoader(dev_dataset, batch_size=batch_size, \n",
        "                                             shuffle=True, num_workers=num_workers, pin_memory=True)\n",
        "\n",
        "  \n",
        "  test_dataloader = torch.utils.data.DataLoader(test_dataset, batch_size=1, \n",
        "                                             shuffle=False, num_workers=num_workers, pin_memory=True)\n",
        "  \n",
        "  return train_dataloader, dev_dataloader, test_dataloader"
      ],
      "execution_count": null,
      "outputs": []
    },
    {
      "cell_type": "code",
      "metadata": {
        "id": "1rIX4FBYrJiJ"
      },
      "source": [
        "def main():\n",
        "  \n",
        "  ''' \n",
        "  #lr = 1e-2\n",
        "  lr = 0.01\n",
        "  #weightDecay = 5e-5\n",
        "  numEpochs = 5\n",
        "  feat_dim = 100\n",
        "  batch_size = 128\n",
        "  #Centre Loss hyperpram\n",
        "  closs_weight = 1\n",
        "  lr_cent = 0.5\n",
        "  ''' \n",
        "  #Dataset\n",
        "  #data_path = 'gdrive/MyDrive/Cmu/h2p2/data/classification_data/'\n",
        "  data_path = \"classification_data/\"\n",
        "  transform = transforms.Compose([\n",
        "    transforms.Resize(256),\n",
        "    transforms.CenterCrop(224),\n",
        "    transforms.ToTensor(),\n",
        "    transforms.Normalize(mean=[0.485, 0.456, 0.406], std=[0.229, 0.224, 0.225]),\n",
        "    ])\n",
        "\n",
        "  train_dataset = torchvision.datasets.ImageFolder(root=data_path+'train_data/', \n",
        "                                                 transform = transform)\n",
        "  dev_dataset = torchvision.datasets.ImageFolder(root=data_path+'val_data/', \n",
        "                                               #transform=torchvision.transforms.ToTensor())\n",
        "                                               transform = transform)\n",
        "  \n",
        "  test_dataset = torchvision.datasets.ImageFolder(root=data_path+'test_data/', \n",
        "                                               #transform=torchvision.transforms.ToTensor())\n",
        "                                               transform = transform)\n",
        "\n",
        "\n",
        "  num_classes = len(train_dataset.classes)\n",
        "  \n",
        "  #Model based on Resnet50\n",
        "  resnet50_model = resnet50(num_classes= num_classes,feat_dim =hyper_param[\"feat_dim\"])\n",
        "  resnet50_model.to(device)\n",
        "\n",
        "  #Print\n",
        "  print(resnet50_model)\n",
        "  print(f'Train Images: {train_dataset.__len__()} \\nDev Images : {dev_dataset.__len__()} \\nTest Images : {test_dataset.__len__()}')\n",
        "  print('Batch Size: ',hyper_param[\"batch_size\"])\n",
        "  print(\"#Lables for N-way clasf:\",num_classes)\n",
        "  print(\"Image Size: 224\")\n",
        "  print(\"Size of face embedding: \",hyper_param[\"feat_dim\"])\n",
        "\n",
        "\n",
        "  #Loss, Optimizer, and scheduler\n",
        "  criterion_closs = CenterLoss(num_classes, hyper_param[\"feat_dim\"], device)\n",
        "  #Adam_optimizer = torch.optim.Adam(resnet50_model.parameters(),lr = lr,weight_decay=weightDecay)\n",
        "  Adam_optimizer = torch.optim.Adam(resnet50_model.parameters(),lr = hyper_param[\"lr\"])\n",
        "  optimizer_closs = torch.optim.SGD(criterion_closs.parameters(), lr=hyper_param[\"lr_cent\"])\n",
        "  scheduler = torch.optim.lr_scheduler.ReduceLROnPlateau(Adam_optimizer,mode='min',patience=1)\n",
        "  \n",
        "  print(\"-------------> Loading saved model<---------------\")\n",
        "  hyper_param[\"infer\"] = load_checkpoint(hyper_param[\"checkpoint\"],resnet50_model,Adam_optimizer,optimizer_closs)\n",
        "  train_loss,dev_loss,d_acc = hyper_param[\"infer\"][\"train_loss\"][-1],hyper_param[\"infer\"][\"dev_loss\"][-1], hyper_param[\"infer\"][\"dev_acc\"][-1]\n",
        "  print(f\"[Prev Model's] \\nTrain loss:{train_loss}  \\nDev Loss: {dev_loss} \\tDev Accuracy: {d_acc}\")\n",
        "  hyper_param[\"loaded_model\"] = resnet50_model\n",
        "  \n",
        "  print(\"Started Loading\")\n",
        "  start = time.time()\n",
        "  train_dataloader, dev_dataloader, test_dataloader = get_loader(train_dataset,dev_dataset,test_dataset,hyper_param[\"batch_size\"])\n",
        "  end = time.time()\n",
        "  print(\"Finished Loading\")\n",
        "  print(f\"Time to get Loader :{end - start}\")\n",
        "  verification_loader = None\n",
        "  print(\"$$$  =============>Strated  Training $$$\")\n",
        "  train_losses, valid_losses, valid_acc = train_step(resnet50_model, train_dataloader, dev_dataloader, verification_loader,Adam_optimizer,optimizer_closs,scheduler,criterion_closs,hyper_param[\"numEpochs\"])"
      ],
      "execution_count": null,
      "outputs": []
    },
    {
      "cell_type": "code",
      "metadata": {
        "id": "T8NN8IS0sA8z",
        "colab": {
          "base_uri": "https://localhost:8080/"
        },
        "outputId": "74bc2e3e-daed-4540-d618-346f973e5c58"
      },
      "source": [
        "!nvidia-smi"
      ],
      "execution_count": null,
      "outputs": [
        {
          "output_type": "stream",
          "text": [
            "Tue Mar  2 13:20:17 2021       \n",
            "+-----------------------------------------------------------------------------+\n",
            "| NVIDIA-SMI 460.39       Driver Version: 460.32.03    CUDA Version: 11.2     |\n",
            "|-------------------------------+----------------------+----------------------+\n",
            "| GPU  Name        Persistence-M| Bus-Id        Disp.A | Volatile Uncorr. ECC |\n",
            "| Fan  Temp  Perf  Pwr:Usage/Cap|         Memory-Usage | GPU-Util  Compute M. |\n",
            "|                               |                      |               MIG M. |\n",
            "|===============================+======================+======================|\n",
            "|   0  Tesla T4            Off  | 00000000:00:04.0 Off |                    0 |\n",
            "| N/A   41C    P8     9W /  70W |      3MiB / 15109MiB |      0%      Default |\n",
            "|                               |                      |                  N/A |\n",
            "+-------------------------------+----------------------+----------------------+\n",
            "                                                                               \n",
            "+-----------------------------------------------------------------------------+\n",
            "| Processes:                                                                  |\n",
            "|  GPU   GI   CI        PID   Type   Process name                  GPU Memory |\n",
            "|        ID   ID                                                   Usage      |\n",
            "|=============================================================================|\n",
            "|  No running processes found                                                 |\n",
            "+-----------------------------------------------------------------------------+\n"
          ],
          "name": "stdout"
        }
      ]
    },
    {
      "cell_type": "code",
      "metadata": {
        "id": "te0pvgQytQdg",
        "colab": {
          "base_uri": "https://localhost:8080/",
          "height": 86
        },
        "outputId": "f1dc3366-4e6c-41d0-fa03-237c5c3ffcbb"
      },
      "source": [
        "'''\n",
        "if __name__ == \"__main__\":\n",
        "  hyper_param = {\n",
        "    \"lr\": 1e-2,\n",
        "    \"batch_size\": 128,\n",
        "    \"numEpochs\": 10, \n",
        "    \"num_workers\": 8,\n",
        "    \"closs_weight\" : 1,\n",
        "    \"lr_cent\" : 0.5,\n",
        "    \"feat_dim\" : 100,\n",
        "    \"closs_weight\" : 1,\n",
        "    \"checkpoint\":\"gdrive/MyDrive/Cmu/h2p2/Checkpoint/last.pth.tar\",\n",
        "    \"infer\" : None,\n",
        "    \"loaded_model\" : None\n",
        "  }\n",
        "  main()\n",
        "  '''"
      ],
      "execution_count": null,
      "outputs": [
        {
          "output_type": "execute_result",
          "data": {
            "application/vnd.google.colaboratory.intrinsic+json": {
              "type": "string"
            },
            "text/plain": [
              "'\\nif __name__ == \"__main__\":\\n  hyper_param = {\\n    \"lr\": 1e-2,\\n    \"batch_size\": 128,\\n    \"numEpochs\": 10, \\n    \"num_workers\": 8,\\n    \"closs_weight\" : 1,\\n    \"lr_cent\" : 0.5,\\n    \"feat_dim\" : 100,\\n    \"closs_weight\" : 1,\\n    \"checkpoint\":\"gdrive/MyDrive/Cmu/h2p2/Checkpoint/last.pth.tar\",\\n    \"infer\" : None,\\n    \"loaded_model\" : None\\n  }\\n  main()\\n  '"
            ]
          },
          "metadata": {
            "tags": []
          },
          "execution_count": 19
        }
      ]
    },
    {
      "cell_type": "code",
      "metadata": {
        "id": "3kRkiETZtV36",
        "colab": {
          "base_uri": "https://localhost:8080/"
        },
        "outputId": "bfed44d7-cc4e-402c-f5c7-1fb187001e55"
      },
      "source": [
        "!nvidia-smi"
      ],
      "execution_count": null,
      "outputs": [
        {
          "output_type": "stream",
          "text": [
            "Tue Mar  2 13:20:25 2021       \n",
            "+-----------------------------------------------------------------------------+\n",
            "| NVIDIA-SMI 460.39       Driver Version: 460.32.03    CUDA Version: 11.2     |\n",
            "|-------------------------------+----------------------+----------------------+\n",
            "| GPU  Name        Persistence-M| Bus-Id        Disp.A | Volatile Uncorr. ECC |\n",
            "| Fan  Temp  Perf  Pwr:Usage/Cap|         Memory-Usage | GPU-Util  Compute M. |\n",
            "|                               |                      |               MIG M. |\n",
            "|===============================+======================+======================|\n",
            "|   0  Tesla T4            Off  | 00000000:00:04.0 Off |                    0 |\n",
            "| N/A   41C    P8     9W /  70W |      3MiB / 15109MiB |      0%      Default |\n",
            "|                               |                      |                  N/A |\n",
            "+-------------------------------+----------------------+----------------------+\n",
            "                                                                               \n",
            "+-----------------------------------------------------------------------------+\n",
            "| Processes:                                                                  |\n",
            "|  GPU   GI   CI        PID   Type   Process name                  GPU Memory |\n",
            "|        ID   ID                                                   Usage      |\n",
            "|=============================================================================|\n",
            "|  No running processes found                                                 |\n",
            "+-----------------------------------------------------------------------------+\n"
          ],
          "name": "stdout"
        }
      ]
    },
    {
      "cell_type": "markdown",
      "metadata": {
        "id": "ZH_px98Ntt7_"
      },
      "source": [
        "# **Inference**"
      ]
    },
    {
      "cell_type": "code",
      "metadata": {
        "id": "zpPpbnziCRpX",
        "colab": {
          "base_uri": "https://localhost:8080/"
        },
        "outputId": "276580d7-90e8-4fc7-a441-bc891a34465d"
      },
      "source": [
        "print(device)"
      ],
      "execution_count": null,
      "outputs": [
        {
          "output_type": "stream",
          "text": [
            "cuda\n"
          ],
          "name": "stdout"
        }
      ]
    },
    {
      "cell_type": "code",
      "metadata": {
        "id": "CbQNCY703dV4"
      },
      "source": [
        "resnet50_model = resnet50(num_classes= 4000,feat_dim =100)\n",
        "resnet50_model.to(device)\n",
        "checkpoint_infer = load_checkpoint(\"gdrive/MyDrive/Cmu/h2p2/Checkpoint/last.pth.tar\",resnet50_model,None,None)"
      ],
      "execution_count": null,
      "outputs": []
    },
    {
      "cell_type": "code",
      "metadata": {
        "id": "dr32KUFsVOZ_"
      },
      "source": [
        "def plot_loss_acc(name,score):\n",
        "    \"\"\"\n",
        "    Plots the loss or Acc against epochs\n",
        "    \n",
        "    Args:\n",
        "        name: (string) Either Train loss, Dev Loss or Dev Accuracy\n",
        "        score: (list) list of loss/accuray with epochs\n",
        "    \"\"\"\n",
        "    plt.title(name)\n",
        "    plt.xlabel('Epoch Number')\n",
        "    plt.ylabel(name.split(sep=' ')[1])\n",
        "    plt.plot(score)\n",
        "    #plt.savefig(\"graphs/\"+name+\".png\")\n",
        "    plt.show()\n"
      ],
      "execution_count": null,
      "outputs": []
    },
    {
      "cell_type": "code",
      "metadata": {
        "id": "Q17raY5H4W68"
      },
      "source": [
        "def lerning_curve(train_loss, dev_loss):\n",
        "  plt.figure(figsize=(10, 6))\n",
        "  plt.plot( train_loss,\"r-+\", linewidth=3, label=\"Training loss\")\n",
        "  plt.plot(dev_loss, \"b-\", linewidth=2, label=\"Dev loss\")\n",
        "  plt.legend(loc=\"best\", fontsize=14)   \n",
        "  plt.xlabel(\"Epochs\", fontsize=14) \n",
        "  plt.ylabel(\"Loss\", fontsize=14) \n",
        "  plt.title(\"Learning Curve\")\n",
        "  #plt.savefig(\"graphs/\"+name+\".png\")\n",
        "  plt.show()"
      ],
      "execution_count": null,
      "outputs": []
    },
    {
      "cell_type": "code",
      "metadata": {
        "id": "0lOeDSEjlUzy"
      },
      "source": [
        "train_loss,dev_loss,d_acc = checkpoint_infer[\"train_loss\"],checkpoint_infer[\"dev_loss\"], checkpoint_infer[\"dev_acc\"]"
      ],
      "execution_count": null,
      "outputs": []
    },
    {
      "cell_type": "code",
      "metadata": {
        "id": "lxV8s7R84reo"
      },
      "source": [
        "#lerning_curve(train_loss, dev_loss)\n"
      ],
      "execution_count": null,
      "outputs": []
    },
    {
      "cell_type": "code",
      "metadata": {
        "colab": {
          "base_uri": "https://localhost:8080/",
          "height": 408
        },
        "id": "Ui4SDxbrlKK0",
        "outputId": "9eaa6794-6f6d-472d-f7fa-664a8960877a"
      },
      "source": [
        "plt.figure(figsize=(10, 6))\n",
        "plt.plot( train_loss,\"r-+\", linewidth=3, label=\"Training loss\")\n",
        "plt.plot(dev_loss, \"b-\", linewidth=2, label=\"Dev loss\")\n",
        "plt.legend(loc=\"best\", fontsize=14)   \n",
        "plt.xlabel(\"Epochs\", fontsize=14) \n",
        "plt.ylabel(\"Loss\", fontsize=14) \n",
        "plt.title(\"Learning Curve\")\n",
        "plt.show()"
      ],
      "execution_count": null,
      "outputs": [
        {
          "output_type": "display_data",
          "data": {
            "image/png": "[encoded data removed]",
            "text/plain": [
              "<Figure size 720x432 with 1 Axes>"
            ]
          },
          "metadata": {
            "tags": [],
            "needs_background": "light"
          }
        }
      ]
    },
    {
      "cell_type": "code",
      "metadata": {
        "id": "BMDxCHlN63UD"
      },
      "source": [
        "transform = transforms.Compose([\n",
        "    transforms.Resize(256),\n",
        "    transforms.CenterCrop(224),\n",
        "    transforms.ToTensor(),\n",
        "    transforms.Normalize(mean=[0.485, 0.456, 0.406], std=[0.229, 0.224, 0.225]),\n",
        "    ])\n",
        "num_workers = 0 if device == \"cpu\" else 8\n",
        "pin_memory= false if device == \"cpu\" else True\n",
        "\n",
        "test_dataset = torchvision.datasets.ImageFolder(root=\"classification_data/test_data/\", \n",
        "                                               #transform=torchvision.transforms.ToTensor())\n",
        "                                               transform = transform)\n",
        "test_dataloader = torch.utils.data.DataLoader(test_dataset, batch_size=100, \n",
        "                                             shuffle=False, num_workers=num_workers, pin_memory=pin_memory)"
      ],
      "execution_count": null,
      "outputs": []
    },
    {
      "cell_type": "code",
      "metadata": {
        "id": "Nmka6VybVOJt",
        "colab": {
          "base_uri": "https://localhost:8080/"
        },
        "outputId": "9991f2dc-a28f-4a07-a1ef-3c8f3a0c2aa5"
      },
      "source": [
        "hyper_param = {\n",
        "    \"lr\": 1e-2,\n",
        "    \"batch_size\": 128,\n",
        "    \"numEpochs\": 10, \n",
        "    \"num_workers\": 8,\n",
        "    \"closs_weight\" : 1,\n",
        "    \"lr_cent\" : 0.5,\n",
        "    \"feat_dim\" : 100,\n",
        "    \"closs_weight\" : 1,\n",
        "    \"checkpoint\":\"gdrive/MyDrive/Cmu/h2p2/Checkpoint/last.pth.tar\",\n",
        "    \"infer\" : None,\n",
        "    \"loaded_model\" : None\n",
        "  }\n",
        "criterion_closs = CenterLoss(4000, 100, device)\n",
        "avg_loss_test, acc_test = infer_classfication(resnet50_model,test_dataloader,criterion_closs)\n",
        "print(f\"*** Classifier <-> Feature Extractor\\n [Test] Loss:{avg_loss_test} \\t Accuracy:{acc_test} \")"
      ],
      "execution_count": null,
      "outputs": [
        {
          "output_type": "stream",
          "text": [
            "/usr/local/lib/python3.7/dist-packages/ipykernel_launcher.py:23: UserWarning: This overload of addmm_ is deprecated:\n",
            "\taddmm_(Number beta, Number alpha, Tensor mat1, Tensor mat2)\n",
            "Consider using one of the following signatures instead:\n",
            "\taddmm_(Tensor mat1, Tensor mat2, *, Number beta, Number alpha) (Triggered internally at  /pytorch/torch/csrc/utils/python_arg_parser.cpp:882.)\n"
          ],
          "name": "stderr"
        },
        {
          "output_type": "stream",
          "text": [
            "*** Classifier <-> Feature Extractor\n",
            " [Test] Loss:1.0179585103988646 \t Accuracy:68.0375 \n"
          ],
          "name": "stdout"
        }
      ]
    },
    {
      "cell_type": "code",
      "metadata": {
        "id": "Rl7YW1mn9tB7"
      },
      "source": [
        "class MyDatasetVerify(Dataset):\n",
        "    # Create dataset for validation of verification tast\n",
        "    def __init__(self, pairFN, imgFolderPath):\n",
        "        self.imgFolderPath = imgFolderPath\n",
        "        with open(pairFN) as f:\n",
        "            self.pairList = [line.rstrip() for line in f]\n",
        "    def __len__(self):\n",
        "        return len(self.pairList)\n",
        "    def __getitem__(self, idx):\n",
        "        transform = transforms.Compose([\n",
        "          transforms.Resize(256),\n",
        "          transforms.CenterCrop(224),\n",
        "          transforms.ToTensor(),\n",
        "          transforms.Normalize(mean=[0.485, 0.456, 0.406], std=[0.229, 0.224, 0.225]),])\n",
        "\n",
        "        items = self.pairList[idx].split()\n",
        "        fn1, fn2 = items[0], items[1]\n",
        "        img1 = Image.open(self.imgFolderPath + fn1)\n",
        "        img2 = Image.open(self.imgFolderPath + fn2)\n",
        "        img1 = transform(img1)\n",
        "        img2 = transform(img2)\n",
        "        #img1 = transforms.ToTensor()(img1)\n",
        "        #img2 = transforms.ToTensor()(img2)\n",
        "        if len(items) == 3: # validation\n",
        "            return img1, img2, int(items[2])\n",
        "        else: # test\n",
        "            return img1, img2, -1\n",
        "    def getPairList(self):\n",
        "        return self.pairList\n",
        "\n",
        "\n",
        "def testVerify(model, vLoader):\n",
        "    model.eval()\n",
        "    similarity = np.array([])\n",
        "    true = np.array([])\n",
        "    with torch.no_grad():\n",
        "        for batch_idx, (imgs1, imgs2, targets) in enumerate(vLoader):\n",
        "            imgs1, imgs2, targets = imgs1.float().to(device), imgs2.float().to(device), targets.float().to(device)\n",
        "            # find cos similarity between embeddings\n",
        "            facImbd_img1 = model(imgs1.float())[0]\n",
        "            facImbd_img2 = model(imgs2.float())[0]\n",
        "            sim = F.cosine_similarity(facImbd_img1, facImbd_img2) \n",
        "            similarity = np.concatenate((similarity, sim.cpu().numpy().reshape(-1)))\n",
        "            true = np.concatenate((true, targets.cpu().numpy().reshape(-1)))\n",
        "            del imgs1\n",
        "            del imgs2\n",
        "            del targets\n",
        "    return similarity, true\n",
        "\n",
        "def get_roc_curve(true_score,predict_score):\n",
        "    fpr, tpr, thresholds = roc_curve(true_score, predict_score)\n",
        "    plt.style.use('ggplot')\n",
        "    fig = plt.figure(figsize=(10, 6))\n",
        "    plot_roc_curve(fpr, tpr)\n",
        "    plt.show()\n",
        "    #plt.savefig('graphs/roc.png')\n",
        "\n",
        "\n",
        "def plot_roc_curve(fpr, tpr, label=None): \n",
        "    plt.plot(fpr, tpr, color='darkorange', linewidth=8, label=label) \n",
        "    plt.plot([0, 1], [0, 1], color='navy', lw=2, linestyle='--')\n",
        "    plt.axis([0, 1, 0, 1])\n",
        "    plt.title('ROC Curve (Train Data)')\n",
        "    plt.xlabel('False Positive Rate')\n",
        "    plt.ylabel('True Positive Rate')"
      ],
      "execution_count": null,
      "outputs": []
    },
    {
      "cell_type": "code",
      "metadata": {
        "id": "8QRj9h3UmDxr"
      },
      "source": [
        "\n",
        "testVeriLabelName = \"/content/gdrive/MyDrive/Cmu/h2p2/output/test_veri_labels.npy\"\n",
        "testVeriLabelCSVfn = \"/content/gdrive/MyDrive/Cmu/h2p2/output/test_veri_labels.csv\"\n",
        "#Verification Validation\n",
        "vrf_val_dataset = MyDatasetVerify('verification_pairs_val.txt',\"\")\n",
        "\n",
        "verf_val_loader = torch.utils.data.DataLoader(vrf_val_dataset, batch_size=200, \n",
        "                                             shuffle=False, num_workers = 1)"
      ],
      "execution_count": null,
      "outputs": []
    },
    {
      "cell_type": "code",
      "metadata": {
        "id": "Vtmnu4x-uRQ2"
      },
      "source": [
        "#for param in resnet50_model.parameters():\n",
        "#  print(param.data)"
      ],
      "execution_count": null,
      "outputs": []
    },
    {
      "cell_type": "code",
      "metadata": {
        "colab": {
          "base_uri": "https://localhost:8080/"
        },
        "id": "V7YGf4e3VOHo",
        "outputId": "e2c311a4-acf9-4ab3-ab2f-a75eb2723a7f"
      },
      "source": [
        "\n",
        "\t# Calculate simliarity score\n",
        "cosSim_valid, trueScore_valid = testVerify(resnet50_model, verf_val_loader)\n",
        "    # Report AUC\n",
        "#get_roc_curve(trueScore_valid,cosSim_valid)\n",
        "auc = roc_auc_score(trueScore_valid, cosSim_valid)\n",
        "print(\"*** AUC: {} ***\".format(auc))"
      ],
      "execution_count": null,
      "outputs": [
        {
          "output_type": "stream",
          "text": [
            "*** AUC: 0.8824221199678957 ***\n"
          ],
          "name": "stdout"
        }
      ]
    },
    {
      "cell_type": "code",
      "metadata": {
        "id": "aWXfXAqJVOEf"
      },
      "source": [
        "import pandas as pd\n",
        "#Verification for test\n",
        "vrf_test_dataset = MyDatasetVerify('verification_pairs_test.txt',\"\")\n",
        "\n",
        "verf_test_loader = torch.utils.data.DataLoader(vrf_test_dataset, batch_size=300, \n",
        "                                             shuffle=False, num_workers = 8)\n",
        "    \n",
        "cosSim_test, _ = testVerify(resnet50_model, verf_test_loader)\n",
        "\n",
        "\t# Save predictied similarity\n",
        "cosSim_test = np.array(cosSim_test)\n",
        "np.save(testVeriLabelName, cosSim_test)\n",
        "trial = np.array(vrf_test_dataset.getPairList())\n",
        "df = pd.DataFrame({\"trial\" : trial, \"score\" : cosSim_test})\n",
        "df.to_csv(testVeriLabelCSVfn, index=False)"
      ],
      "execution_count": null,
      "outputs": []
    },
    {
      "cell_type": "code",
      "metadata": {
        "colab": {
          "background_save": true
        },
        "id": "QXnBfufZAJe6"
      },
      "source": [
        "'''data_iter = iter(verf_test_loader)\n",
        "images1,images2,labels = data_iter.next()'''"
      ],
      "execution_count": null,
      "outputs": []
    },
    {
      "cell_type": "code",
      "metadata": {
        "colab": {
          "background_save": true
        },
        "id": "rYNV70MjAPRK",
        "outputId": "0e1f02a8-fff5-479c-f2fa-b581b45e55d4"
      },
      "source": [
        "#im = torchvision.utils.make_grid(images1[:4],nrow=1)\n",
        "#plt.imshow(np.transpose(im.numpy(), (1, 2, 0)))"
      ],
      "execution_count": null,
      "outputs": [
        {
          "output_type": "stream",
          "text": [
            "Clipping input data to the valid range for imshow with RGB data ([0..1] for floats or [0..255] for integers).\n"
          ],
          "name": "stderr"
        },
        {
          "output_type": "execute_result",
          "data": {
            "text/plain": [
              "<matplotlib.image.AxesImage at 0x7f3a71a0fd10>"
            ]
          },
          "metadata": {
            "tags": []
          },
          "execution_count": 0
        },
        {
          "output_type": "display_data",
          "data": {
            "image/png": "[encoded data removed]",
            "text/plain": [
              "<Figure size 432x288 with 1 Axes>"
            ]
          },
          "metadata": {
            "tags": []
          }
        }
      ]
    },
    {
      "cell_type": "code",
      "metadata": {
        "colab": {
          "background_save": true
        },
        "id": "H8R10vuMAWKq",
        "outputId": "021fd93d-f918-49c6-af37-3f5de7b1382f"
      },
      "source": [
        "'''\n",
        "im = torchvision.utils.make_grid(images2[:4],nrow=1)\n",
        "plt.imshow(np.transpose(im.numpy(), (1, 2, 0)))\n",
        "print(f\"Labels: {labels[:4]}\")'''"
      ],
      "execution_count": null,
      "outputs": [
        {
          "output_type": "stream",
          "text": [
            "Clipping input data to the valid range for imshow with RGB data ([0..1] for floats or [0..255] for integers).\n"
          ],
          "name": "stderr"
        },
        {
          "output_type": "stream",
          "text": [
            "Labels: tensor([-1, -1, -1, -1])\n"
          ],
          "name": "stdout"
        },
        {
          "output_type": "display_data",
          "data": {
            "image/png": "[encoded data removed]",
            "text/plain": [
              "<Figure size 432x288 with 1 Axes>"
            ]
          },
          "metadata": {
            "tags": []
          }
        }
      ]
    },
    {
      "cell_type": "code",
      "metadata": {
        "colab": {
          "base_uri": "https://localhost:8080/",
          "height": 359
        },
        "id": "spxxbRNpVOB1",
        "outputId": "ea39b71b-fbca-4486-9f1a-1a968d53ac7a"
      },
      "source": [
        "df.head(10)\n"
      ],
      "execution_count": null,
      "outputs": [
        {
          "output_type": "execute_result",
          "data": {
            "text/html": [
              "<div>\n",
              "<style scoped>\n",
              "    .dataframe tbody tr th:only-of-type {\n",
              "        vertical-align: middle;\n",
              "    }\n",
              "\n",
              "    .dataframe tbody tr th {\n",
              "        vertical-align: top;\n",
              "    }\n",
              "\n",
              "    .dataframe thead th {\n",
              "        text-align: right;\n",
              "    }\n",
              "</style>\n",
              "<table border=\"1\" class=\"dataframe\">\n",
              "  <thead>\n",
              "    <tr style=\"text-align: right;\">\n",
              "      <th></th>\n",
              "      <th>trial</th>\n",
              "      <th>score</th>\n",
              "    </tr>\n",
              "  </thead>\n",
              "  <tbody>\n",
              "    <tr>\n",
              "      <th>0</th>\n",
              "      <td>verification_data/00020839.jpg verification_da...</td>\n",
              "      <td>0.735332</td>\n",
              "    </tr>\n",
              "    <tr>\n",
              "      <th>1</th>\n",
              "      <td>verification_data/00002921.jpg verification_da...</td>\n",
              "      <td>0.488608</td>\n",
              "    </tr>\n",
              "    <tr>\n",
              "      <th>2</th>\n",
              "      <td>verification_data/00011732.jpg verification_da...</td>\n",
              "      <td>0.340157</td>\n",
              "    </tr>\n",
              "    <tr>\n",
              "      <th>3</th>\n",
              "      <td>verification_data/00052778.jpg verification_da...</td>\n",
              "      <td>0.147349</td>\n",
              "    </tr>\n",
              "    <tr>\n",
              "      <th>4</th>\n",
              "      <td>verification_data/00053948.jpg verification_da...</td>\n",
              "      <td>0.563070</td>\n",
              "    </tr>\n",
              "    <tr>\n",
              "      <th>5</th>\n",
              "      <td>verification_data/00011732.jpg verification_da...</td>\n",
              "      <td>0.639023</td>\n",
              "    </tr>\n",
              "    <tr>\n",
              "      <th>6</th>\n",
              "      <td>verification_data/00046783.jpg verification_da...</td>\n",
              "      <td>-0.028300</td>\n",
              "    </tr>\n",
              "    <tr>\n",
              "      <th>7</th>\n",
              "      <td>verification_data/00002921.jpg verification_da...</td>\n",
              "      <td>0.044919</td>\n",
              "    </tr>\n",
              "    <tr>\n",
              "      <th>8</th>\n",
              "      <td>verification_data/00002921.jpg verification_da...</td>\n",
              "      <td>0.136344</td>\n",
              "    </tr>\n",
              "    <tr>\n",
              "      <th>9</th>\n",
              "      <td>verification_data/00066200.jpg verification_da...</td>\n",
              "      <td>0.644636</td>\n",
              "    </tr>\n",
              "  </tbody>\n",
              "</table>\n",
              "</div>"
            ],
            "text/plain": [
              "                                               trial     score\n",
              "0  verification_data/00020839.jpg verification_da...  0.735332\n",
              "1  verification_data/00002921.jpg verification_da...  0.488608\n",
              "2  verification_data/00011732.jpg verification_da...  0.340157\n",
              "3  verification_data/00052778.jpg verification_da...  0.147349\n",
              "4  verification_data/00053948.jpg verification_da...  0.563070\n",
              "5  verification_data/00011732.jpg verification_da...  0.639023\n",
              "6  verification_data/00046783.jpg verification_da... -0.028300\n",
              "7  verification_data/00002921.jpg verification_da...  0.044919\n",
              "8  verification_data/00002921.jpg verification_da...  0.136344\n",
              "9  verification_data/00066200.jpg verification_da...  0.644636"
            ]
          },
          "metadata": {
            "tags": []
          },
          "execution_count": 36
        }
      ]
    },
    {
      "cell_type": "code",
      "metadata": {
        "colab": {
          "background_save": true
        },
        "id": "TgvOK9mphkaZ"
      },
      "source": [
        "def testVerify(model, vLoader):\n",
        "    model.eval()\n",
        "    similarity = np.array([])\n",
        "    true = np.array([])\n",
        "    with torch.no_grad():\n",
        "        for batch_idx, (imgs1, imgs2, targets) in enumerate(vLoader):\n",
        "            imgs1, imgs2, targets = imgs1.float().to(device), imgs2.float().to(device), targets.float().to(device)\n",
        "            # find cos similarity between embeddings\n",
        "            facImbd_img1 = model(imgs1.float())[0]\n",
        "            facImbd_img2 = model(imgs2.float())[0]\n",
        "            sim = F.cosine_similarity(facImbd_img1, facImbd_img2) \n",
        "            similarity = np.concatenate((similarity, sim.cpu().numpy().reshape(-1)))\n",
        "            true = np.concatenate((true, targets.cpu().numpy().reshape(-1)))\n",
        "            del imgs1\n",
        "            del imgs2\n",
        "            del targets\n",
        "    return similarity, true"
      ],
      "execution_count": null,
      "outputs": []
    },
    {
      "cell_type": "code",
      "metadata": {
        "id": "LNmbYEFihyFu"
      },
      "source": [
        "data_iter = iter(verf_test_loader)\n",
        "images1,images2,labels = data_iter.next()"
      ],
      "execution_count": null,
      "outputs": []
    },
    {
      "cell_type": "code",
      "metadata": {
        "id": "O787-DmliDLC"
      },
      "source": [
        "images11, images12 = images1[0], images1[1]\n",
        "images21, images22 = images2[0] , images2[1]\n",
        "labels1, labels2 = labels[0], labels[1]\n",
        "\n"
      ],
      "execution_count": null,
      "outputs": []
    },
    {
      "cell_type": "code",
      "metadata": {
        "colab": {
          "background_save": true
        },
        "id": "mVomoddLhx_J",
        "outputId": "c6a75ce4-756a-4aae-bd77-1256caac2031"
      },
      "source": [
        "plt.imshow(np.transpose(images11.numpy(), (1, 2, 0)))"
      ],
      "execution_count": null,
      "outputs": [
        {
          "output_type": "stream",
          "text": [
            "Clipping input data to the valid range for imshow with RGB data ([0..1] for floats or [0..255] for integers).\n"
          ],
          "name": "stderr"
        },
        {
          "output_type": "execute_result",
          "data": {
            "text/plain": [
              "<matplotlib.image.AxesImage at 0x7f3a71979510>"
            ]
          },
          "metadata": {
            "tags": []
          },
          "execution_count": 0
        },
        {
          "output_type": "display_data",
          "data": {
            "image/png": "[encoded data removed]",
            "text/plain": [
              "<Figure size 432x288 with 1 Axes>"
            ]
          },
          "metadata": {
            "tags": []
          }
        }
      ]
    },
    {
      "cell_type": "code",
      "metadata": {
        "colab": {
          "background_save": true
        },
        "id": "imB7fCzRhkUz",
        "outputId": "478c9dcc-3bac-4e68-ac06-a551c23d5753"
      },
      "source": [
        "plt.imshow(np.transpose(images12.numpy(), (1, 2, 0)))"
      ],
      "execution_count": null,
      "outputs": [
        {
          "output_type": "stream",
          "text": [
            "Clipping input data to the valid range for imshow with RGB data ([0..1] for floats or [0..255] for integers).\n"
          ],
          "name": "stderr"
        },
        {
          "output_type": "execute_result",
          "data": {
            "text/plain": [
              "<matplotlib.image.AxesImage at 0x7f3a718ed450>"
            ]
          },
          "metadata": {
            "tags": []
          },
          "execution_count": 0
        },
        {
          "output_type": "display_data",
          "data": {
            "image/png": "[encoded data removed]",
            "text/plain": [
              "<Figure size 432x288 with 1 Axes>"
            ]
          },
          "metadata": {
            "tags": []
          }
        }
      ]
    },
    {
      "cell_type": "code",
      "metadata": {
        "colab": {
          "background_save": true
        },
        "id": "Y3qFZtvxi_Ek"
      },
      "source": [
        ""
      ],
      "execution_count": null,
      "outputs": []
    },
    {
      "cell_type": "code",
      "metadata": {
        "id": "6rPhkCWOi-2j"
      },
      "source": [
        ""
      ],
      "execution_count": null,
      "outputs": []
    },
    {
      "cell_type": "code",
      "metadata": {
        "colab": {
          "base_uri": "https://localhost:8080/"
        },
        "id": "ypBnIdf6kEfZ",
        "outputId": "4e2ebb90-d70b-4c8c-a0b1-a392ed3caf49"
      },
      "source": [
        "images11[None,:].shape"
      ],
      "execution_count": null,
      "outputs": [
        {
          "output_type": "execute_result",
          "data": {
            "text/plain": [
              "torch.Size([1, 3, 224, 224])"
            ]
          },
          "metadata": {
            "tags": []
          },
          "execution_count": 47
        }
      ]
    },
    {
      "cell_type": "code",
      "metadata": {
        "colab": {
          "base_uri": "https://localhost:8080/"
        },
        "id": "SbLghKr_hkQt",
        "outputId": "ca8474ea-5fd8-4620-8bf7-8f2065dcd6b9"
      },
      "source": [
        "resnet50_model.eval()\n",
        "with torch.no_grad():\n",
        "  imgs1, imgs2, labels1,labels2 = images11[None,:].float().to(device), images12[None,:].float().to(device), labels1.float().to(device),labels2.float().to(device)\n",
        "  facImbd_img1 = resnet50_model(imgs1.float())[0]\n",
        "  facImbd_img2 = resnet50_model(imgs2.float())[0]\n",
        "  print(facImbd_img1[:10])\n",
        "  print(facImbd_img2[:10])\n"
      ],
      "execution_count": null,
      "outputs": [
        {
          "output_type": "stream",
          "text": [
            "tensor([[-0.0512, -0.0772, -0.0593, -0.0515, -0.0559, -0.0617, -0.0561, -0.0521,\n",
            "         -0.0451, -0.0481, -0.0633, -0.0515, -0.0713, -0.0527, -0.0577, -0.0525,\n",
            "         -0.0396, -0.0519, -0.0440, -0.0689, -0.0438, -0.0991, -0.0494, -0.0418,\n",
            "         -0.0518, -0.0486, -0.0634, -0.0885, -0.0423, -0.0675, -0.0667, -0.0511,\n",
            "         -0.0934, -0.0656, -0.0439, -0.0480, -0.0520, -0.0546, -0.0967, -0.0664,\n",
            "         -0.0499, -0.0508, -0.0461, -0.0532, -0.0543, -0.0459, -0.0390, -0.0870,\n",
            "         -0.0612, -0.0514, -0.0472, -0.0465, -0.0555, -0.0577, -0.0367, -0.0615,\n",
            "         -0.0593, -0.0592, -0.0564, -0.0520, -0.0751, -0.0415, -0.1057, -0.0582,\n",
            "         -0.0438, -0.0641, -0.0708, -0.0459, -0.0547, -0.0545, -0.0327, -0.0396,\n",
            "         -0.0518, -0.0566, -0.0553, -0.0444, -0.0749, -0.0730, -0.0626, -0.0473,\n",
            "         -0.0517, -0.0468, -0.0631, -0.0346, -0.0651, -0.0476, -0.0490, -0.0523,\n",
            "         -0.0310, -0.0500, -0.0641, -0.0471, -0.0722, -0.0417, -0.0598, -0.0528,\n",
            "         -0.0732, -0.0525, -0.0476, -0.0576]], device='cuda:0')\n",
            "tensor([[-0.0536, -0.0724, -0.0623, -0.0554, -0.0590, -0.0710, -0.0589, -0.0536,\n",
            "         -0.0464, -0.0470, -0.0634, -0.0524, -0.0648, -0.0511, -0.0574, -0.0550,\n",
            "         -0.0397, -0.0637, -0.0477, -0.0679, -0.0471, -0.0771, -0.0525, -0.0400,\n",
            "         -0.0540, -0.0520, -0.0632, -0.0848, -0.0485, -0.0750, -0.0644, -0.0536,\n",
            "         -0.0909, -0.0658, -0.0487, -0.0497, -0.0537, -0.0525, -0.0806, -0.0659,\n",
            "         -0.0519, -0.0503, -0.0503, -0.0432, -0.0512, -0.0514, -0.0421, -0.0942,\n",
            "         -0.0595, -0.0467, -0.0416, -0.0449, -0.0606, -0.0543, -0.0453, -0.0734,\n",
            "         -0.0627, -0.0607, -0.0541, -0.0566, -0.0777, -0.0428, -0.0550, -0.0592,\n",
            "         -0.0507, -0.0651, -0.0620, -0.0571, -0.0565, -0.0582, -0.0385, -0.0416,\n",
            "         -0.0549, -0.0537, -0.0562, -0.0439, -0.0817, -0.0689, -0.0588, -0.0500,\n",
            "         -0.0605, -0.0490, -0.0641, -0.0336, -0.0599, -0.0523, -0.0495, -0.0542,\n",
            "         -0.0307, -0.0498, -0.0609, -0.0477, -0.0695, -0.0352, -0.0611, -0.0583,\n",
            "         -0.0813, -0.0489, -0.0510, -0.0574]], device='cuda:0')\n"
          ],
          "name": "stdout"
        }
      ]
    },
    {
      "cell_type": "code",
      "metadata": {
        "id": "kj1l-fTXKIX0"
      },
      "source": [
        ""
      ],
      "execution_count": null,
      "outputs": []
    },
    {
      "cell_type": "code",
      "metadata": {
        "id": "OWbhKjsqJFyI"
      },
      "source": [
        "def verf_two_img(img1,img2,model):\n",
        "  \n",
        "  model.eval()\n",
        "\n",
        "  with torch.no_grad():\n",
        "    imgs1, imgs2 = imgs1.float().to(device), imgs2.float().to(device)\n",
        "            # find cos similarity between embeddings\n",
        "    facImbd_img1 = model(imgs1.float())[0]\n",
        "    facImbd_img2 = model(imgs2.float())[0]\n",
        "    sim = F.cosine_similarity(facImbd_img1, facImbd_img2) \n",
        "    result = \"Match\" if sim > 0.3 else \"Not a Match\"\n",
        "  return result\n"
      ],
      "execution_count": null,
      "outputs": []
    },
    {
      "cell_type": "code",
      "metadata": {
        "colab": {
          "base_uri": "https://localhost:8080/",
          "height": 232
        },
        "id": "hqUMJFXeKU4P",
        "outputId": "007a1781-9524-4270-a7ec-d364d3ef71d6"
      },
      "source": [
        "resnet50_model = resnet50(num_classes= 4000,feat_dim =100)\n",
        "resnet50_model.to(device)\n",
        "transform = transforms.Compose([\n",
        "  transforms.Resize(256),\n",
        "  transforms.CenterCrop(224),\n",
        "  transforms.ToTensor(),\n",
        "  transforms.Normalize(mean=[0.485, 0.456, 0.406], std=[0.229, 0.224, 0.225]),\n",
        "  ])\n",
        "images11, images12 = transform(img1), transform(img2)\n",
        "verf_two_img(images11,images12,resnet50_model)"
      ],
      "execution_count": null,
      "outputs": [
        {
          "output_type": "error",
          "ename": "NameError",
          "evalue": "ignored",
          "traceback": [
            "\u001b[0;31m---------------------------------------------------------------------------\u001b[0m",
            "\u001b[0;31mNameError\u001b[0m                                 Traceback (most recent call last)",
            "\u001b[0;32m<ipython-input-2-67f5247d2c87>\u001b[0m in \u001b[0;36m<module>\u001b[0;34m()\u001b[0m\n\u001b[0;32m----> 1\u001b[0;31m \u001b[0mresnet50_model\u001b[0m \u001b[0;34m=\u001b[0m \u001b[0mresnet50\u001b[0m\u001b[0;34m(\u001b[0m\u001b[0mnum_classes\u001b[0m\u001b[0;34m=\u001b[0m \u001b[0;36m4000\u001b[0m\u001b[0;34m,\u001b[0m\u001b[0mfeat_dim\u001b[0m \u001b[0;34m=\u001b[0m\u001b[0;36m100\u001b[0m\u001b[0;34m)\u001b[0m\u001b[0;34m\u001b[0m\u001b[0;34m\u001b[0m\u001b[0m\n\u001b[0m\u001b[1;32m      2\u001b[0m \u001b[0mresnet50_model\u001b[0m\u001b[0;34m.\u001b[0m\u001b[0mto\u001b[0m\u001b[0;34m(\u001b[0m\u001b[0mdevice\u001b[0m\u001b[0;34m)\u001b[0m\u001b[0;34m\u001b[0m\u001b[0;34m\u001b[0m\u001b[0m\n\u001b[1;32m      3\u001b[0m transform = transforms.Compose([\n\u001b[1;32m      4\u001b[0m   \u001b[0mtransforms\u001b[0m\u001b[0;34m.\u001b[0m\u001b[0mResize\u001b[0m\u001b[0;34m(\u001b[0m\u001b[0;36m256\u001b[0m\u001b[0;34m)\u001b[0m\u001b[0;34m,\u001b[0m\u001b[0;34m\u001b[0m\u001b[0;34m\u001b[0m\u001b[0m\n\u001b[1;32m      5\u001b[0m   \u001b[0mtransforms\u001b[0m\u001b[0;34m.\u001b[0m\u001b[0mCenterCrop\u001b[0m\u001b[0;34m(\u001b[0m\u001b[0;36m224\u001b[0m\u001b[0;34m)\u001b[0m\u001b[0;34m,\u001b[0m\u001b[0;34m\u001b[0m\u001b[0;34m\u001b[0m\u001b[0m\n",
            "\u001b[0;31mNameError\u001b[0m: name 'resnet50' is not defined"
          ]
        }
      ]
    },
    {
      "cell_type": "code",
      "metadata": {
        "colab": {
          "base_uri": "https://localhost:8080/",
          "height": 303
        },
        "id": "kjJoGjq7KDkx",
        "outputId": "6b40fc0b-bd04-4d44-f3c8-37bf4be9c839"
      },
      "source": [
        "plt.imshow(np.transpose(images12.numpy(), (1, 2, 0)))"
      ],
      "execution_count": null,
      "outputs": [
        {
          "output_type": "stream",
          "text": [
            "Clipping input data to the valid range for imshow with RGB data ([0..1] for floats or [0..255] for integers).\n"
          ],
          "name": "stderr"
        },
        {
          "output_type": "execute_result",
          "data": {
            "text/plain": [
              "<matplotlib.image.AxesImage at 0x7fb2c11f3190>"
            ]
          },
          "metadata": {
            "tags": []
          },
          "execution_count": 43
        },
        {
          "output_type": "display_data",
          "data": {
            "image/png": "[encoded data removed]",
            "text/plain": [
              "<Figure size 432x288 with 1 Axes>"
            ]
          },
          "metadata": {
            "tags": [],
            "needs_background": "light"
          }
        }
      ]
    },
    {
      "cell_type": "code",
      "metadata": {
        "colab": {
          "base_uri": "https://localhost:8080/"
        },
        "id": "nKO5TLDIJFvC",
        "outputId": "f6a836d2-8ed5-41be-e6e7-949a73efb945"
      },
      "source": [
        "resnet50_model = resnet50(num_classes= 4000,feat_dim =100)\n",
        "resnet50_model.to(device)"
      ],
      "execution_count": null,
      "outputs": [
        {
          "output_type": "execute_result",
          "data": {
            "text/plain": [
              "ResNet(\n",
              "  (conv1): Conv2d(3, 64, kernel_size=(7, 7), stride=(2, 2), padding=(3, 3), bias=False)\n",
              "  (bn1): BatchNorm2d(64, eps=1e-05, momentum=0.1, affine=True, track_running_stats=True)\n",
              "  (relu): ReLU(inplace=True)\n",
              "  (maxpool): MaxPool2d(kernel_size=3, stride=2, padding=1, dilation=1, ceil_mode=False)\n",
              "  (layer1): Sequential(\n",
              "    (0): Bottleneck(\n",
              "      (conv1): Conv2d(64, 64, kernel_size=(1, 1), stride=(1, 1), bias=False)\n",
              "      (bn1): BatchNorm2d(64, eps=1e-05, momentum=0.1, affine=True, track_running_stats=True)\n",
              "      (conv2): Conv2d(64, 64, kernel_size=(3, 3), stride=(1, 1), padding=(1, 1), bias=False)\n",
              "      (bn2): BatchNorm2d(64, eps=1e-05, momentum=0.1, affine=True, track_running_stats=True)\n",
              "      (conv3): Conv2d(64, 256, kernel_size=(1, 1), stride=(1, 1), bias=False)\n",
              "      (bn3): BatchNorm2d(256, eps=1e-05, momentum=0.1, affine=True, track_running_stats=True)\n",
              "      (relu): ReLU(inplace=True)\n",
              "      (downsample): Sequential(\n",
              "        (0): Conv2d(64, 256, kernel_size=(1, 1), stride=(1, 1), bias=False)\n",
              "        (1): BatchNorm2d(256, eps=1e-05, momentum=0.1, affine=True, track_running_stats=True)\n",
              "      )\n",
              "    )\n",
              "    (1): Bottleneck(\n",
              "      (conv1): Conv2d(256, 64, kernel_size=(1, 1), stride=(1, 1), bias=False)\n",
              "      (bn1): BatchNorm2d(64, eps=1e-05, momentum=0.1, affine=True, track_running_stats=True)\n",
              "      (conv2): Conv2d(64, 64, kernel_size=(3, 3), stride=(1, 1), padding=(1, 1), bias=False)\n",
              "      (bn2): BatchNorm2d(64, eps=1e-05, momentum=0.1, affine=True, track_running_stats=True)\n",
              "      (conv3): Conv2d(64, 256, kernel_size=(1, 1), stride=(1, 1), bias=False)\n",
              "      (bn3): BatchNorm2d(256, eps=1e-05, momentum=0.1, affine=True, track_running_stats=True)\n",
              "      (relu): ReLU(inplace=True)\n",
              "    )\n",
              "    (2): Bottleneck(\n",
              "      (conv1): Conv2d(256, 64, kernel_size=(1, 1), stride=(1, 1), bias=False)\n",
              "      (bn1): BatchNorm2d(64, eps=1e-05, momentum=0.1, affine=True, track_running_stats=True)\n",
              "      (conv2): Conv2d(64, 64, kernel_size=(3, 3), stride=(1, 1), padding=(1, 1), bias=False)\n",
              "      (bn2): BatchNorm2d(64, eps=1e-05, momentum=0.1, affine=True, track_running_stats=True)\n",
              "      (conv3): Conv2d(64, 256, kernel_size=(1, 1), stride=(1, 1), bias=False)\n",
              "      (bn3): BatchNorm2d(256, eps=1e-05, momentum=0.1, affine=True, track_running_stats=True)\n",
              "      (relu): ReLU(inplace=True)\n",
              "    )\n",
              "  )\n",
              "  (layer2): Sequential(\n",
              "    (0): Bottleneck(\n",
              "      (conv1): Conv2d(256, 128, kernel_size=(1, 1), stride=(1, 1), bias=False)\n",
              "      (bn1): BatchNorm2d(128, eps=1e-05, momentum=0.1, affine=True, track_running_stats=True)\n",
              "      (conv2): Conv2d(128, 128, kernel_size=(3, 3), stride=(2, 2), padding=(1, 1), bias=False)\n",
              "      (bn2): BatchNorm2d(128, eps=1e-05, momentum=0.1, affine=True, track_running_stats=True)\n",
              "      (conv3): Conv2d(128, 512, kernel_size=(1, 1), stride=(1, 1), bias=False)\n",
              "      (bn3): BatchNorm2d(512, eps=1e-05, momentum=0.1, affine=True, track_running_stats=True)\n",
              "      (relu): ReLU(inplace=True)\n",
              "      (downsample): Sequential(\n",
              "        (0): Conv2d(256, 512, kernel_size=(1, 1), stride=(2, 2), bias=False)\n",
              "        (1): BatchNorm2d(512, eps=1e-05, momentum=0.1, affine=True, track_running_stats=True)\n",
              "      )\n",
              "    )\n",
              "    (1): Bottleneck(\n",
              "      (conv1): Conv2d(512, 128, kernel_size=(1, 1), stride=(1, 1), bias=False)\n",
              "      (bn1): BatchNorm2d(128, eps=1e-05, momentum=0.1, affine=True, track_running_stats=True)\n",
              "      (conv2): Conv2d(128, 128, kernel_size=(3, 3), stride=(1, 1), padding=(1, 1), bias=False)\n",
              "      (bn2): BatchNorm2d(128, eps=1e-05, momentum=0.1, affine=True, track_running_stats=True)\n",
              "      (conv3): Conv2d(128, 512, kernel_size=(1, 1), stride=(1, 1), bias=False)\n",
              "      (bn3): BatchNorm2d(512, eps=1e-05, momentum=0.1, affine=True, track_running_stats=True)\n",
              "      (relu): ReLU(inplace=True)\n",
              "    )\n",
              "    (2): Bottleneck(\n",
              "      (conv1): Conv2d(512, 128, kernel_size=(1, 1), stride=(1, 1), bias=False)\n",
              "      (bn1): BatchNorm2d(128, eps=1e-05, momentum=0.1, affine=True, track_running_stats=True)\n",
              "      (conv2): Conv2d(128, 128, kernel_size=(3, 3), stride=(1, 1), padding=(1, 1), bias=False)\n",
              "      (bn2): BatchNorm2d(128, eps=1e-05, momentum=0.1, affine=True, track_running_stats=True)\n",
              "      (conv3): Conv2d(128, 512, kernel_size=(1, 1), stride=(1, 1), bias=False)\n",
              "      (bn3): BatchNorm2d(512, eps=1e-05, momentum=0.1, affine=True, track_running_stats=True)\n",
              "      (relu): ReLU(inplace=True)\n",
              "    )\n",
              "    (3): Bottleneck(\n",
              "      (conv1): Conv2d(512, 128, kernel_size=(1, 1), stride=(1, 1), bias=False)\n",
              "      (bn1): BatchNorm2d(128, eps=1e-05, momentum=0.1, affine=True, track_running_stats=True)\n",
              "      (conv2): Conv2d(128, 128, kernel_size=(3, 3), stride=(1, 1), padding=(1, 1), bias=False)\n",
              "      (bn2): BatchNorm2d(128, eps=1e-05, momentum=0.1, affine=True, track_running_stats=True)\n",
              "      (conv3): Conv2d(128, 512, kernel_size=(1, 1), stride=(1, 1), bias=False)\n",
              "      (bn3): BatchNorm2d(512, eps=1e-05, momentum=0.1, affine=True, track_running_stats=True)\n",
              "      (relu): ReLU(inplace=True)\n",
              "    )\n",
              "  )\n",
              "  (layer3): Sequential(\n",
              "    (0): Bottleneck(\n",
              "      (conv1): Conv2d(512, 256, kernel_size=(1, 1), stride=(1, 1), bias=False)\n",
              "      (bn1): BatchNorm2d(256, eps=1e-05, momentum=0.1, affine=True, track_running_stats=True)\n",
              "      (conv2): Conv2d(256, 256, kernel_size=(3, 3), stride=(2, 2), padding=(1, 1), bias=False)\n",
              "      (bn2): BatchNorm2d(256, eps=1e-05, momentum=0.1, affine=True, track_running_stats=True)\n",
              "      (conv3): Conv2d(256, 1024, kernel_size=(1, 1), stride=(1, 1), bias=False)\n",
              "      (bn3): BatchNorm2d(1024, eps=1e-05, momentum=0.1, affine=True, track_running_stats=True)\n",
              "      (relu): ReLU(inplace=True)\n",
              "      (downsample): Sequential(\n",
              "        (0): Conv2d(512, 1024, kernel_size=(1, 1), stride=(2, 2), bias=False)\n",
              "        (1): BatchNorm2d(1024, eps=1e-05, momentum=0.1, affine=True, track_running_stats=True)\n",
              "      )\n",
              "    )\n",
              "    (1): Bottleneck(\n",
              "      (conv1): Conv2d(1024, 256, kernel_size=(1, 1), stride=(1, 1), bias=False)\n",
              "      (bn1): BatchNorm2d(256, eps=1e-05, momentum=0.1, affine=True, track_running_stats=True)\n",
              "      (conv2): Conv2d(256, 256, kernel_size=(3, 3), stride=(1, 1), padding=(1, 1), bias=False)\n",
              "      (bn2): BatchNorm2d(256, eps=1e-05, momentum=0.1, affine=True, track_running_stats=True)\n",
              "      (conv3): Conv2d(256, 1024, kernel_size=(1, 1), stride=(1, 1), bias=False)\n",
              "      (bn3): BatchNorm2d(1024, eps=1e-05, momentum=0.1, affine=True, track_running_stats=True)\n",
              "      (relu): ReLU(inplace=True)\n",
              "    )\n",
              "    (2): Bottleneck(\n",
              "      (conv1): Conv2d(1024, 256, kernel_size=(1, 1), stride=(1, 1), bias=False)\n",
              "      (bn1): BatchNorm2d(256, eps=1e-05, momentum=0.1, affine=True, track_running_stats=True)\n",
              "      (conv2): Conv2d(256, 256, kernel_size=(3, 3), stride=(1, 1), padding=(1, 1), bias=False)\n",
              "      (bn2): BatchNorm2d(256, eps=1e-05, momentum=0.1, affine=True, track_running_stats=True)\n",
              "      (conv3): Conv2d(256, 1024, kernel_size=(1, 1), stride=(1, 1), bias=False)\n",
              "      (bn3): BatchNorm2d(1024, eps=1e-05, momentum=0.1, affine=True, track_running_stats=True)\n",
              "      (relu): ReLU(inplace=True)\n",
              "    )\n",
              "    (3): Bottleneck(\n",
              "      (conv1): Conv2d(1024, 256, kernel_size=(1, 1), stride=(1, 1), bias=False)\n",
              "      (bn1): BatchNorm2d(256, eps=1e-05, momentum=0.1, affine=True, track_running_stats=True)\n",
              "      (conv2): Conv2d(256, 256, kernel_size=(3, 3), stride=(1, 1), padding=(1, 1), bias=False)\n",
              "      (bn2): BatchNorm2d(256, eps=1e-05, momentum=0.1, affine=True, track_running_stats=True)\n",
              "      (conv3): Conv2d(256, 1024, kernel_size=(1, 1), stride=(1, 1), bias=False)\n",
              "      (bn3): BatchNorm2d(1024, eps=1e-05, momentum=0.1, affine=True, track_running_stats=True)\n",
              "      (relu): ReLU(inplace=True)\n",
              "    )\n",
              "    (4): Bottleneck(\n",
              "      (conv1): Conv2d(1024, 256, kernel_size=(1, 1), stride=(1, 1), bias=False)\n",
              "      (bn1): BatchNorm2d(256, eps=1e-05, momentum=0.1, affine=True, track_running_stats=True)\n",
              "      (conv2): Conv2d(256, 256, kernel_size=(3, 3), stride=(1, 1), padding=(1, 1), bias=False)\n",
              "      (bn2): BatchNorm2d(256, eps=1e-05, momentum=0.1, affine=True, track_running_stats=True)\n",
              "      (conv3): Conv2d(256, 1024, kernel_size=(1, 1), stride=(1, 1), bias=False)\n",
              "      (bn3): BatchNorm2d(1024, eps=1e-05, momentum=0.1, affine=True, track_running_stats=True)\n",
              "      (relu): ReLU(inplace=True)\n",
              "    )\n",
              "    (5): Bottleneck(\n",
              "      (conv1): Conv2d(1024, 256, kernel_size=(1, 1), stride=(1, 1), bias=False)\n",
              "      (bn1): BatchNorm2d(256, eps=1e-05, momentum=0.1, affine=True, track_running_stats=True)\n",
              "      (conv2): Conv2d(256, 256, kernel_size=(3, 3), stride=(1, 1), padding=(1, 1), bias=False)\n",
              "      (bn2): BatchNorm2d(256, eps=1e-05, momentum=0.1, affine=True, track_running_stats=True)\n",
              "      (conv3): Conv2d(256, 1024, kernel_size=(1, 1), stride=(1, 1), bias=False)\n",
              "      (bn3): BatchNorm2d(1024, eps=1e-05, momentum=0.1, affine=True, track_running_stats=True)\n",
              "      (relu): ReLU(inplace=True)\n",
              "    )\n",
              "  )\n",
              "  (layer4): Sequential(\n",
              "    (0): Bottleneck(\n",
              "      (conv1): Conv2d(1024, 512, kernel_size=(1, 1), stride=(1, 1), bias=False)\n",
              "      (bn1): BatchNorm2d(512, eps=1e-05, momentum=0.1, affine=True, track_running_stats=True)\n",
              "      (conv2): Conv2d(512, 512, kernel_size=(3, 3), stride=(2, 2), padding=(1, 1), bias=False)\n",
              "      (bn2): BatchNorm2d(512, eps=1e-05, momentum=0.1, affine=True, track_running_stats=True)\n",
              "      (conv3): Conv2d(512, 2048, kernel_size=(1, 1), stride=(1, 1), bias=False)\n",
              "      (bn3): BatchNorm2d(2048, eps=1e-05, momentum=0.1, affine=True, track_running_stats=True)\n",
              "      (relu): ReLU(inplace=True)\n",
              "      (downsample): Sequential(\n",
              "        (0): Conv2d(1024, 2048, kernel_size=(1, 1), stride=(2, 2), bias=False)\n",
              "        (1): BatchNorm2d(2048, eps=1e-05, momentum=0.1, affine=True, track_running_stats=True)\n",
              "      )\n",
              "    )\n",
              "    (1): Bottleneck(\n",
              "      (conv1): Conv2d(2048, 512, kernel_size=(1, 1), stride=(1, 1), bias=False)\n",
              "      (bn1): BatchNorm2d(512, eps=1e-05, momentum=0.1, affine=True, track_running_stats=True)\n",
              "      (conv2): Conv2d(512, 512, kernel_size=(3, 3), stride=(1, 1), padding=(1, 1), bias=False)\n",
              "      (bn2): BatchNorm2d(512, eps=1e-05, momentum=0.1, affine=True, track_running_stats=True)\n",
              "      (conv3): Conv2d(512, 2048, kernel_size=(1, 1), stride=(1, 1), bias=False)\n",
              "      (bn3): BatchNorm2d(2048, eps=1e-05, momentum=0.1, affine=True, track_running_stats=True)\n",
              "      (relu): ReLU(inplace=True)\n",
              "    )\n",
              "    (2): Bottleneck(\n",
              "      (conv1): Conv2d(2048, 512, kernel_size=(1, 1), stride=(1, 1), bias=False)\n",
              "      (bn1): BatchNorm2d(512, eps=1e-05, momentum=0.1, affine=True, track_running_stats=True)\n",
              "      (conv2): Conv2d(512, 512, kernel_size=(3, 3), stride=(1, 1), padding=(1, 1), bias=False)\n",
              "      (bn2): BatchNorm2d(512, eps=1e-05, momentum=0.1, affine=True, track_running_stats=True)\n",
              "      (conv3): Conv2d(512, 2048, kernel_size=(1, 1), stride=(1, 1), bias=False)\n",
              "      (bn3): BatchNorm2d(2048, eps=1e-05, momentum=0.1, affine=True, track_running_stats=True)\n",
              "      (relu): ReLU(inplace=True)\n",
              "    )\n",
              "  )\n",
              "  (avgpool): AdaptiveAvgPool2d(output_size=(1, 1))\n",
              "  (linear_label): Linear(in_features=2048, out_features=4000, bias=True)\n",
              "  (linear_closs): Linear(in_features=2048, out_features=100, bias=True)\n",
              ")"
            ]
          },
          "metadata": {
            "tags": []
          },
          "execution_count": 37
        }
      ]
    },
    {
      "cell_type": "code",
      "metadata": {
        "id": "qJ_uTxuz8j3Y"
      },
      "source": [
        ""
      ],
      "execution_count": null,
      "outputs": []
    }
  ]
}